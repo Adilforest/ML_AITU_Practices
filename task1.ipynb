{
 "cells": [
  {
   "cell_type": "code",
   "execution_count": 2,
   "id": "07b98278",
   "metadata": {},
   "outputs": [],
   "source": [
    "import pandas as pd\n",
    "import numpy as np"
   ]
  },
  {
   "cell_type": "code",
   "execution_count": null,
   "id": "fd66f211",
   "metadata": {},
   "outputs": [
    {
     "name": "stdout",
     "output_type": "stream",
     "text": [
      "Number of rows: 227\n",
      "Number of columns: 10\n"
     ]
    }
   ],
   "source": [
    "df = pd.read_csv('population.csv')\n",
    "\n",
    "print(f\"Number of rows: {df.shape[0]}\")\n",
    "print(f\"Number of columns: {df.shape[1]}\")"
   ]
  },
  {
   "cell_type": "code",
   "execution_count": 4,
   "id": "9f7e5ab8",
   "metadata": {},
   "outputs": [
    {
     "name": "stdout",
     "output_type": "stream",
     "text": [
      "Районы                           0\n",
      "Общее население                  0\n",
      "мужчины                          0\n",
      "женщины                          0\n",
      "городское население            124\n",
      "городское население мужчины    124\n",
      "городское население женщины    124\n",
      "сельское население              34\n",
      "сельское население мужчины      34\n",
      "сельское население женщины      34\n",
      "dtype: int64\n"
     ]
    }
   ],
   "source": [
    "missing_values = df.isnull().sum()\n",
    "print(missing_values)"
   ]
  },
  {
   "cell_type": "code",
   "execution_count": 6,
   "id": "02f46994",
   "metadata": {},
   "outputs": [
    {
     "name": "stdout",
     "output_type": "stream",
     "text": [
      "\n",
      "Cleaning numeric columns...\n",
      "Converted 'Общее население' to numeric format\n",
      "Converted 'мужчины' to numeric format\n",
      "Converted 'женщины' to numeric format\n",
      "Converted 'городское население' to numeric format\n",
      "Converted 'городское население мужчины' to numeric format\n",
      "Converted 'городское население женщины' to numeric format\n",
      "Converted 'сельское население' to numeric format\n",
      "Converted 'сельское население мужчины' to numeric format\n",
      "Converted 'сельское население женщины' to numeric format\n",
      "\n",
      "Handling missing values...\n",
      "Filled 124 missing values in 'городское население' with median: 52,200\n",
      "Filled 124 missing values in 'городское население мужчины' with median: 26,449\n",
      "Filled 124 missing values in 'городское население женщины' with median: 26,636\n",
      "Filled 34 missing values in 'сельское население' with median: 22,875\n",
      "Filled 34 missing values in 'сельское население мужчины' with median: 11,385\n",
      "Filled 34 missing values in 'сельское население женщины' with median: 11,119\n",
      "\n",
      "Missing values after imputation: 0\n"
     ]
    },
    {
     "name": "stderr",
     "output_type": "stream",
     "text": [
      "/var/folders/_4/q7nw2hvn7sjcn3hh_7rb94jc0000gn/T/ipykernel_9193/3535501295.py:21: FutureWarning: A value is trying to be set on a copy of a DataFrame or Series through chained assignment using an inplace method.\n",
      "The behavior will change in pandas 3.0. This inplace method will never work because the intermediate object on which we are setting values always behaves as a copy.\n",
      "\n",
      "For example, when doing 'df[col].method(value, inplace=True)', try using 'df.method({col: value}, inplace=True)' or df[col] = df[col].method(value) instead, to perform the operation inplace on the original object.\n",
      "\n",
      "\n",
      "  df_imputed[col].fillna(median_val, inplace=True)\n",
      "/var/folders/_4/q7nw2hvn7sjcn3hh_7rb94jc0000gn/T/ipykernel_9193/3535501295.py:21: FutureWarning: A value is trying to be set on a copy of a DataFrame or Series through chained assignment using an inplace method.\n",
      "The behavior will change in pandas 3.0. This inplace method will never work because the intermediate object on which we are setting values always behaves as a copy.\n",
      "\n",
      "For example, when doing 'df[col].method(value, inplace=True)', try using 'df.method({col: value}, inplace=True)' or df[col] = df[col].method(value) instead, to perform the operation inplace on the original object.\n",
      "\n",
      "\n",
      "  df_imputed[col].fillna(median_val, inplace=True)\n",
      "/var/folders/_4/q7nw2hvn7sjcn3hh_7rb94jc0000gn/T/ipykernel_9193/3535501295.py:21: FutureWarning: A value is trying to be set on a copy of a DataFrame or Series through chained assignment using an inplace method.\n",
      "The behavior will change in pandas 3.0. This inplace method will never work because the intermediate object on which we are setting values always behaves as a copy.\n",
      "\n",
      "For example, when doing 'df[col].method(value, inplace=True)', try using 'df.method({col: value}, inplace=True)' or df[col] = df[col].method(value) instead, to perform the operation inplace on the original object.\n",
      "\n",
      "\n",
      "  df_imputed[col].fillna(median_val, inplace=True)\n",
      "/var/folders/_4/q7nw2hvn7sjcn3hh_7rb94jc0000gn/T/ipykernel_9193/3535501295.py:29: FutureWarning: A value is trying to be set on a copy of a DataFrame or Series through chained assignment using an inplace method.\n",
      "The behavior will change in pandas 3.0. This inplace method will never work because the intermediate object on which we are setting values always behaves as a copy.\n",
      "\n",
      "For example, when doing 'df[col].method(value, inplace=True)', try using 'df.method({col: value}, inplace=True)' or df[col] = df[col].method(value) instead, to perform the operation inplace on the original object.\n",
      "\n",
      "\n",
      "  df_imputed[col].fillna(median_val, inplace=True)\n",
      "/var/folders/_4/q7nw2hvn7sjcn3hh_7rb94jc0000gn/T/ipykernel_9193/3535501295.py:29: FutureWarning: A value is trying to be set on a copy of a DataFrame or Series through chained assignment using an inplace method.\n",
      "The behavior will change in pandas 3.0. This inplace method will never work because the intermediate object on which we are setting values always behaves as a copy.\n",
      "\n",
      "For example, when doing 'df[col].method(value, inplace=True)', try using 'df.method({col: value}, inplace=True)' or df[col] = df[col].method(value) instead, to perform the operation inplace on the original object.\n",
      "\n",
      "\n",
      "  df_imputed[col].fillna(median_val, inplace=True)\n",
      "/var/folders/_4/q7nw2hvn7sjcn3hh_7rb94jc0000gn/T/ipykernel_9193/3535501295.py:29: FutureWarning: A value is trying to be set on a copy of a DataFrame or Series through chained assignment using an inplace method.\n",
      "The behavior will change in pandas 3.0. This inplace method will never work because the intermediate object on which we are setting values always behaves as a copy.\n",
      "\n",
      "For example, when doing 'df[col].method(value, inplace=True)', try using 'df.method({col: value}, inplace=True)' or df[col] = df[col].method(value) instead, to perform the operation inplace on the original object.\n",
      "\n",
      "\n",
      "  df_imputed[col].fillna(median_val, inplace=True)\n"
     ]
    }
   ],
   "source": [
    "df_imputed = df.copy()\n",
    "\n",
    "numeric_cols = ['Общее население', 'мужчины', 'женщины', \n",
    "                'городское население', 'городское население мужчины', 'городское население женщины',\n",
    "                'сельское население', 'сельское население мужчины', 'сельское население женщины']\n",
    "\n",
    "print(\"\\nCleaning numeric columns...\")\n",
    "for col in numeric_cols:\n",
    "    if df_imputed[col].dtype == 'object':\n",
    "        df_imputed[col] = df_imputed[col].str.replace(',', '').str.replace(' ', '')\n",
    "        df_imputed[col] = pd.to_numeric(df_imputed[col], errors='coerce')\n",
    "        print(f\"Converted '{col}' to numeric format\")\n",
    "\n",
    "print(\"\\nHandling missing values...\")\n",
    "\n",
    "urban_cols = ['городское население', 'городское население мужчины', 'городское население женщины']\n",
    "for col in urban_cols:\n",
    "    missing_count = df_imputed[col].isnull().sum()\n",
    "    if missing_count > 0:\n",
    "        median_val = df_imputed[col].median()\n",
    "        df_imputed[col].fillna(median_val, inplace=True)\n",
    "        print(f\"Filled {missing_count} missing values in '{col}' with median: {median_val:,.0f}\")\n",
    "\n",
    "rural_cols = ['сельское население', 'сельское население мужчины', 'сельское население женщины']\n",
    "for col in rural_cols:\n",
    "    missing_count = df_imputed[col].isnull().sum()\n",
    "    if missing_count > 0:\n",
    "        median_val = df_imputed[col].median()\n",
    "        df_imputed[col].fillna(median_val, inplace=True)\n",
    "        print(f\"Filled {missing_count} missing values in '{col}' with median: {median_val:,.0f}\")\n",
    "\n",
    "remaining_missing = df_imputed.isnull().sum().sum()\n",
    "print(f\"\\nMissing values after imputation: {remaining_missing}\")\n",
    "\n",
    "if remaining_missing > 0:\n",
    "    print(\"Columns with remaining missing values:\")\n",
    "    print(df_imputed.isnull().sum()[df_imputed.isnull().sum() > 0])"
   ]
  },
  {
   "cell_type": "code",
   "execution_count": 8,
   "id": "75d4998e",
   "metadata": {},
   "outputs": [
    {
     "name": "stdout",
     "output_type": "stream",
     "text": [
      "Created new derived features:\n",
      "- Урбанизация (%): Percentage of urban population\n",
      "- Доля мужчин/женщин в городе/селе: Gender distribution percentages\n"
     ]
    }
   ],
   "source": [
    "df_imputed['Урбанизация (%)'] = (df_imputed['городское население'] / df_imputed['Общее население']) * 100\n",
    "df_imputed['Доля мужчин в городе (%)'] = (df_imputed['городское население мужчины'] / df_imputed['городское население']) * 100\n",
    "df_imputed['Доля женщин в городе (%)'] = (df_imputed['городское население женщины'] / df_imputed['городское население']) * 100\n",
    "df_imputed['Доля мужчин в селе (%)'] = (df_imputed['сельское население мужчины'] / df_imputed['сельское население']) * 100\n",
    "df_imputed['Доля женщин в селе (%)'] = (df_imputed['сельское население женщины'] / df_imputed['сельское население']) * 100\n",
    "\n",
    "print(\"Created new derived features:\")\n",
    "print(\"- Урбанизация (%): Percentage of urban population\")\n",
    "print(\"- Доля мужчин/женщин в городе/селе: Gender distribution percentages\")\n",
    "\n",
    "df_imputed = df_imputed.replace([np.inf, -np.inf], np.nan)\n",
    "df_imputed = df_imputed.fillna(0)"
   ]
  },
  {
   "cell_type": "code",
   "execution_count": null,
   "id": "c7014f45",
   "metadata": {},
   "outputs": [
    {
     "name": "stdout",
     "output_type": "stream",
     "text": [
      "\n",
      "Statistical Summary:\n",
      "======================================================================\n",
      "Total Population:\n",
      "  Mean: 88,809.28\n",
      "  Median: 39,631.00\n",
      "  Standard Deviation: 108,569.58\n",
      "  Range: 5,092 - 576,517\n",
      "  Difference (Mean-Median): 49,178.28\n",
      "--------------------------------------------------\n",
      "Urban Population:\n",
      "  Mean: 84,155.71\n",
      "  Median: 52,200.00\n",
      "  Standard Deviation: 97,215.68\n",
      "  Range: 2,202 - 576,517\n",
      "  Difference (Mean-Median): 31,955.71\n",
      "--------------------------------------------------\n",
      "Rural Population:\n",
      "  Mean: 36,594.32\n",
      "  Median: 22,875.00\n",
      "  Standard Deviation: 42,754.18\n",
      "  Range: 90 - 260,533\n",
      "  Difference (Mean-Median): 13,719.32\n",
      "--------------------------------------------------\n"
     ]
    }
   ],
   "source": [
    "columns_to_analyze = {\n",
    "    'Total Population': 'Общее население',\n",
    "    'Urban Population': 'городское население', \n",
    "    'Rural Population': 'сельское население'\n",
    "}\n",
    "\n",
    "results = {}\n",
    "for eng_name, rus_name in columns_to_analyze.items():\n",
    "    results[eng_name] = {\n",
    "        'Mean': df_imputed[rus_name].mean(),\n",
    "        'Median': df_imputed[rus_name].median(),\n",
    "        'Std': df_imputed[rus_name].std(),\n",
    "        'Min': df_imputed[rus_name].min(),\n",
    "        'Max': df_imputed[rus_name].max()\n",
    "    }\n",
    "\n",
    "for col, stats in results.items():\n",
    "    print(f\"{col}:\")\n",
    "    print(f\"  Mean: {stats['Mean']:,.2f}\")\n",
    "    print(f\"  Median: {stats['Median']:,.2f}\")\n",
    "    print(f\"  Standard Deviation: {stats['Std']:,.2f}\")\n",
    "    print(f\"  Range: {stats['Min']:,.0f} - {stats['Max']:,.0f}\")\n",
    "    print(f\"  Difference (Mean-Median): {abs(stats['Mean'] - stats['Median']):,.2f}\")\n",
    "    print(\"-\" * 50)"
   ]
  }
 ],
 "metadata": {
  "kernelspec": {
   "display_name": "venv",
   "language": "python",
   "name": "python3"
  },
  "language_info": {
   "codemirror_mode": {
    "name": "ipython",
    "version": 3
   },
   "file_extension": ".py",
   "mimetype": "text/x-python",
   "name": "python",
   "nbconvert_exporter": "python",
   "pygments_lexer": "ipython3",
   "version": "3.11.0"
  }
 },
 "nbformat": 4,
 "nbformat_minor": 5
}
